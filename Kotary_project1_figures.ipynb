{
 "cells": [
  {
   "cell_type": "code",
   "execution_count": null,
   "metadata": {},
   "outputs": [],
   "source": [
    "\"\"\"\n",
    "BF550 Project 1\n",
    "Code to reproduce figures from Zamora-Camacho et al. Paper\n",
    "Bergmann's rule Rules body size in an ectotherm: Heat conservation in a Lizard along A 2200-metre Elevational gradient\n",
    "Kyrah Kotary\n",
    "kkotary@bu.edu\n",
    "\"\"\""
   ]
  },
  {
   "cell_type": "code",
   "execution_count": 170,
   "metadata": {},
   "outputs": [],
   "source": [
    "import pandas as pd\n",
    "import matplotlib.pyplot as plt\n",
    "import numpy as np"
   ]
  },
  {
   "cell_type": "code",
   "execution_count": 18,
   "metadata": {},
   "outputs": [],
   "source": [
    "excel_file = pd.ExcelFile('bergmanns_rule.xls') "
   ]
  },
  {
   "cell_type": "code",
   "execution_count": 19,
   "metadata": {},
   "outputs": [
    {
     "name": "stdout",
     "output_type": "stream",
     "text": [
      "['2012']\n"
     ]
    }
   ],
   "source": [
    "print(excel_file.sheet_names) "
   ]
  },
  {
   "cell_type": "code",
   "execution_count": 21,
   "metadata": {},
   "outputs": [
    {
     "name": "stdout",
     "output_type": "stream",
     "text": [
      "Index(['NumCol', 'Altitude', 'Altitude 2', 'Elevation Belt', 'Sex', 'Tb (ºC)',\n",
      "       'MasCapt (g)', 'SVL (mm)', 'FrontLeg', 'HindLeg', 'HeadWidth',\n",
      "       'HeadLenth', 'Head Height', 'Throat L', 'Throat A', 'Throat B',\n",
      "       'Back L', 'Back A', 'Back B', 'Gravid', 'Heating rate', 'Cooling rate',\n",
      "       'Inertia lapsus'],\n",
      "      dtype='object')\n"
     ]
    }
   ],
   "source": [
    "df = excel_file.parse('2012') \n",
    "print(df.columns) #what information is in the excel table?"
   ]
  },
  {
   "cell_type": "code",
   "execution_count": 47,
   "metadata": {},
   "outputs": [
    {
     "name": "stdout",
     "output_type": "stream",
     "text": [
      "[ 300  700 1200 1700 2200 2500]\n"
     ]
    }
   ],
   "source": [
    "altitudes = df['Altitude'].unique()\n",
    "print(altitudes) #which altitudes were body masses measured at?"
   ]
  },
  {
   "cell_type": "raw",
   "metadata": {},
   "source": [
    "Figure 2: Body mass was significantly bigger in the highlands, according to predictions of Bergmann's Rule. Vertical bars denote 0.95 confidence intervals. Sample size is indicated on bars."
   ]
  },
  {
   "cell_type": "code",
   "execution_count": 227,
   "metadata": {},
   "outputs": [],
   "source": [
    "#compute values needed for plot and calculation of confidence intervals\n",
    "bm_means = [] #mean body mass at each altitude\n",
    "bm_counts = [] #number of body mass measurements at each altitude\n",
    "bm_std = [] #standard deviations\n",
    "bm_se = [] #standard errors \n",
    "lci = [] #lower limit of the 95% confidence interval\n",
    "uci = [] #upper limit of the 95% confidence interval\n",
    "z = 1.96 #z score for 95% confidence interval\n",
    "for i in altitudes:\n",
    "    mask = df[\"Altitude\"] == i\n",
    "    altitude = df[mask]\n",
    "    bm = altitude[\"MasCapt (g)\"]\n",
    "    bm_means.append(bm.mean())\n",
    "    bm_counts.append(bm.count())\n",
    "    bm_std.append(bm.std())\n",
    "    se = bm.std()/np.sqrt(bm.count())\n",
    "    #bm_se.append(bm.std()/np.sqrt(bm.count()))\n",
    "    bm_se.append(se)\n",
    "    lci.append(bm.mean() - z*se)\n",
    "    uci.append(bm.mean() + z*se)"
   ]
  },
  {
   "cell_type": "code",
   "execution_count": 226,
   "metadata": {},
   "outputs": [
    {
     "data": {
      "image/png": "[encoded data removed]",
      "text/plain": [
       "<Figure size 432x288 with 1 Axes>"
      ]
     },
     "metadata": {
      "needs_background": "light"
     },
     "output_type": "display_data"
    }
   ],
   "source": [
    "#plot the points\n",
    "x = np.array(altitudes)\n",
    "y = np.array(bm_means) \n",
    "plt.plot(altitudes, bm_means, 'o', color='black', fillstyle='none')\n",
    "plt.xlabel('Altitude (m asl)')\n",
    "plt.ylabel('Body mass (g)')\n",
    "plt.xlim(75, 2800)\n",
    "xlabels = [\"300\", \"700\", \"1200\", \"1700\", \"2200\", \"2500\"]\n",
    "plt.xticks(altitudes, labels)\n",
    "plt.ylim(4, 13);\n",
    "\n",
    "#error bars for 95% confidence interval\n",
    "ymin = np.array([0,1,2,3])\n",
    "ymax = np.array([3,4,5,6])\n",
    "ytop = uci-y\n",
    "ybot = y-lci\n",
    "plt.errorbar(x, y, yerr=(ytop, ybot), color='black', capsize=3);\n",
    "\n",
    "#label the points with sample sizes\n",
    "label = \"n =\"\n",
    "label_pos = [(250, 8.5), (650, 8), (1150, 7.8), (1650, 9), (2100, 9.2), (2450, 12)]\n",
    "for pos in label_pos:\n",
    "    plt.annotate(label, pos)\n",
    "nlabel_pos = [(450, 8.5), (850, 8), (1350, 7.8), (1850, 9), (2300, 9.2), (2650, 12)]\n",
    "for i in range(len(bm_counts)):\n",
    "    plt.annotate(bm_counts[i], nlabel_pos[i])"
   ]
  },
  {
   "cell_type": "raw",
   "metadata": {},
   "source": [
    "Heating rates\n",
    "Figure 3: Ordinary Least Squares Regression of heating rate (+) and cooling rate (■) over body mass. Although cooling rate had a significant, higher‐sloped, negative relationship with body mass, heating rate showed a significant concave down relationship with body mass."
   ]
  },
  {
   "cell_type": "code",
   "execution_count": 231,
   "metadata": {},
   "outputs": [],
   "source": [
    "import statsmodels.api as sm"
   ]
  },
  {
   "cell_type": "code",
   "execution_count": 232,
   "metadata": {},
   "outputs": [],
   "source": [
    "df = df.dropna()\n",
    "cr = df['Cooling rate']\n",
    "hr = df['Heating rate']\n",
    "bm = df['MasCapt (g)']"
   ]
  },
  {
   "cell_type": "code",
   "execution_count": 233,
   "metadata": {},
   "outputs": [
    {
     "name": "stdout",
     "output_type": "stream",
     "text": [
      "                            OLS Regression Results                            \n",
      "==============================================================================\n",
      "Dep. Variable:           Cooling rate   R-squared:                       0.381\n",
      "Model:                            OLS   Adj. R-squared:                  0.324\n",
      "Method:                 Least Squares   F-statistic:                     6.762\n",
      "Date:                Wed, 09 Dec 2020   Prob (F-statistic):             0.0247\n",
      "Time:                        11:00:02   Log-Likelihood:                 11.181\n",
      "No. Observations:                  13   AIC:                            -18.36\n",
      "Df Residuals:                      11   BIC:                            -17.23\n",
      "Df Model:                           1                                         \n",
      "Covariance Type:            nonrobust                                         \n",
      "===============================================================================\n",
      "                  coef    std err          t      P>|t|      [0.025      0.975]\n",
      "-------------------------------------------------------------------------------\n",
      "const           0.7405      0.106      7.013      0.000       0.508       0.973\n",
      "MasCapt (g)    -0.0311      0.012     -2.600      0.025      -0.057      -0.005\n",
      "==============================================================================\n",
      "Omnibus:                        2.163   Durbin-Watson:                   1.489\n",
      "Prob(Omnibus):                  0.339   Jarque-Bera (JB):                0.822\n",
      "Skew:                           0.611   Prob(JB):                        0.663\n",
      "Kurtosis:                       3.152   Cond. No.                         30.6\n",
      "==============================================================================\n",
      "\n",
      "Warnings:\n",
      "[1] Standard Errors assume that the covariance matrix of the errors is correctly specified.\n",
      "                            OLS Regression Results                            \n",
      "==============================================================================\n",
      "Dep. Variable:           Heating rate   R-squared:                       0.092\n",
      "Model:                            OLS   Adj. R-squared:                  0.009\n",
      "Method:                 Least Squares   F-statistic:                     1.113\n",
      "Date:                Wed, 09 Dec 2020   Prob (F-statistic):              0.314\n",
      "Time:                        11:00:02   Log-Likelihood:               -0.63811\n",
      "No. Observations:                  13   AIC:                             5.276\n",
      "Df Residuals:                      11   BIC:                             6.406\n",
      "Df Model:                           1                                         \n",
      "Covariance Type:            nonrobust                                         \n",
      "===============================================================================\n",
      "                  coef    std err          t      P>|t|      [0.025      0.975]\n",
      "-------------------------------------------------------------------------------\n",
      "const           1.3687      0.262      5.222      0.000       0.792       1.946\n",
      "MasCapt (g)    -0.0313      0.030     -1.055      0.314      -0.097       0.034\n",
      "==============================================================================\n",
      "Omnibus:                        2.581   Durbin-Watson:                   1.759\n",
      "Prob(Omnibus):                  0.275   Jarque-Bera (JB):                0.556\n",
      "Skew:                           0.278   Prob(JB):                        0.757\n",
      "Kurtosis:                       3.847   Cond. No.                         30.6\n",
      "==============================================================================\n",
      "\n",
      "Warnings:\n",
      "[1] Standard Errors assume that the covariance matrix of the errors is correctly specified.\n"
     ]
    },
    {
     "name": "stderr",
     "output_type": "stream",
     "text": [
      "C:\\Users\\kyrah\\Anaconda3\\lib\\site-packages\\numpy\\core\\fromnumeric.py:2389: FutureWarning: Method .ptp is deprecated and will be removed in a future version. Use numpy.ptp instead.\n",
      "  return ptp(axis=axis, out=out, **kwargs)\n",
      "C:\\Users\\kyrah\\Anaconda3\\lib\\site-packages\\scipy\\stats\\stats.py:1450: UserWarning: kurtosistest only valid for n>=20 ... continuing anyway, n=13\n",
      "  \"anyway, n=%i\" % int(n))\n"
     ]
    }
   ],
   "source": [
    "#define the variables \n",
    "x = bm\n",
    "y1 = abs(cr)\n",
    "y2 = hr\n",
    "  \n",
    "#add the constant term \n",
    "x = sm.add_constant(x) \n",
    "  \n",
    "#performing the regression and fit the model \n",
    "result1 = sm.OLS(y1, x).fit()\n",
    "result2 = sm.OLS(y2, x).fit()\n",
    "  \n",
    "#summary table \n",
    "print(result1.summary()) \n",
    "print(result2.summary()) "
   ]
  },
  {
   "cell_type": "code",
   "execution_count": 235,
   "metadata": {},
   "outputs": [
    {
     "data": {
      "image/png": "[encoded data removed]",
      "text/plain": [
       "<Figure size 432x288 with 1 Axes>"
      ]
     },
     "metadata": {
      "needs_background": "light"
     },
     "output_type": "display_data"
    }
   ],
   "source": [
    "#plot the original values \n",
    "df = excel_file.parse('2012')\n",
    "cr = df['Cooling rate']\n",
    "hr = df['Heating rate']\n",
    "bm = df['MasCapt (g)']\n",
    "x = bm \n",
    "y1 = abs(cr)\n",
    "y2 = hr\n",
    "plt.scatter(x, y2, marker='+', color='black', label='heating rate')\n",
    "plt.scatter(x, y1, marker='s', s=10, color='black', label='cooling rate')\n",
    "plt.xlim(2, 16)\n",
    "plt.ylim(0.2, 1.6)\n",
    "plt.xlabel('Body mass (g)')\n",
    "plt.ylabel('Heat transfer rate (\\N{DEGREE SIGN}C/min)')\n",
    "plt.legend()\n",
    " \n",
    "#find the maximum and minimum values of x to get the range of data \n",
    "max_x = x.max() \n",
    "min_x = x.min() \n",
    "  \n",
    "#range of values for plotting the regression line \n",
    "x = np.arange(min_x, max_x, 1) \n",
    "  \n",
    "#the substituted equation \n",
    "y1 = -0.0311  * x + 0.7405\n",
    "y2 = -0.0313 * x + 1.3687\n",
    "  \n",
    "#plott the regression line \n",
    "plt.plot(y1, 'r', color='black', linestyle='--')\n",
    "plt.plot(y2, 'r', color='black')\n",
    "plt.show()"
   ]
  },
  {
   "cell_type": "code",
   "execution_count": null,
   "metadata": {},
   "outputs": [],
   "source": []
  }
 ],
 "metadata": {
  "kernelspec": {
   "display_name": "Python 3",
   "language": "python",
   "name": "python3"
  },
  "language_info": {
   "codemirror_mode": {
    "name": "ipython",
    "version": 3
   },
   "file_extension": ".py",
   "mimetype": "text/x-python",
   "name": "python",
   "nbconvert_exporter": "python",
   "pygments_lexer": "ipython3",
   "version": "3.8.5"
  }
 },
 "nbformat": 4,
 "nbformat_minor": 2
}
